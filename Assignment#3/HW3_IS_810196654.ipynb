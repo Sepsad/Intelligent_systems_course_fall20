{
 "cells": [
  {
   "cell_type": "markdown",
   "metadata": {},
   "source": [
    "<body >\n",
    "    <div style=\"direction:rtl;line-height:300%;background-color:rgb(255, 255, 255);\">\n",
    "            <img src=\"./images/Fanni-Transparent.png\" style=\"position:reletive;margin-top:25pt;float:right;\" width=\"200\" height=\"200\"/>\n",
    "    <img src=\"./images/University_of_Tehran_logo.svg\" style=\"position:reletive;margin-top:25pt;margin-left:20pt;float:left;\" width=\"150\" height=\"150\"/>\n",
    "\t\t<div align=center>\n",
    "\t\t\t<font  size=5 >\n",
    "\t\t\t\t<p></p>\n",
    "\t\t\t\t<p></p>\n",
    "                <br>\n",
    "                 بسمه تعالی\n",
    "\t\t\t\t<p></p>\n",
    "\t\t\t</font>\n",
    "\t\t</div>\n",
    "        <div align=center >\n",
    "                        <font size=30 >\n",
    "                            <br>\n",
    "                            گزارش همورک سوم\n",
    "                        </font>\n",
    "         </div>\n",
    "           <div align=center >\n",
    "                        <font size=3 >\n",
    "                            <br>\n",
    "تهیه و تنظیم : سپهر سعیدپور\n",
    "                            <br>\n",
    "۸۱۰۱۹۶۶۵۴\n",
    "                        </font>\n",
    "        </div>\n",
    "    </div>\n",
    "</body>"
   ]
  },
  {
   "cell_type": "markdown",
   "metadata": {},
   "source": [
    "# Question ۱"
   ]
  },
  {
   "cell_type": "markdown",
   "metadata": {},
   "source": [
    "<div dir=\"rtl\">\n",
    "\n",
    "## سوال ۱\n",
    "\n",
    "<ul>\n",
    "  <li> نرمال کردن داده‌ها به طور کلی روی دقت مدل و سرعت ترین شدن مدل تاثیر گذار است. اما نکته مهم این است که در مدل‌های مختلف ماشین‌لرنینگی این تاثیر متفاوت است.</li>\n",
    "    <li> در مدل‌هایی که با روش‌های گرادیانی ترین می‌شوند مانند نورال نتورک و رگرشن. به دلیل اینکه گرادیان در یک زیرفضای کوچک‌تری انجام می‌شود سرعت را افرایش می‌دهد. همینطور مقادیر زیاد و ناموزون در شبکه عصبی باعث اشباع شدن تابع‌های فعال‌سازی می‌شود. که این هم روی دقت مدل تاثیر دارد.</li>\n",
    "    <li> همینطور در مدل‌ها این افزایش سرعت گرادیان باعث می‌شود که الگوریتم سریع‌تر به مقدار اپتیمم نزدیک شود. و این یعنی به طور کلی به دقت بهتری خواهد رسید.</li>\n",
    "    <li> در این لینک <a href = \"https://towardsdatascience.com/understand-data-normalization-in-machine-learning-8ff3062101f0\">link </a> به خوبی این مسئله توضیح داده شده است. </li>\n",
    "</ul>\n",
    "    \n",
    "\n",
    "\n",
    "</div>"
   ]
  },
  {
   "cell_type": "markdown",
   "metadata": {},
   "source": [
    "<div dir=\"rtl\">\n",
    "\n",
    "## سوال ۲\n",
    "\n",
    "<ul>\n",
    "  <li>دراپ‌اوت روشی در یادگیری عمیق است که با آن می‌توان از فرابرازش داده‌ها جلوگیری کرد. </li>\n",
    "    <li>در این روش به هر کدام از نورون‌های شبکه یک احتمالی اختصاص داده می‌شود که در واقع احتمال کنار گذاشته شدن آن نورون است. روش‌های مختلفی برای پیاده‌سازی دراپ‌اوت است که بیشتر با توزیع‌های مختلف احتمال روی نورون‌ها به کار می‌رود. مثلا از برنولی برای انتخاب کردن یا نکردن یک نورون استفاده می‌شود و بعد از آن با اختصاص این احتمال شبکه شروع به یادگیری می‌کند و نتیجه باعث می‌شود که مدل ما به خوبی برازش شود.  </li>\n",
    "    <li> در این <a href = \"https://www.cs.toronto.edu/~hinton/absps/JMLRdropout.pdf\">link </a> مقاله جفری هینتون آمده‌است که به خوبی این دراپ‌اوت را توضیح میدهد. </li>\n",
    "    \n",
    "</ul>\n",
    "\n",
    "\n",
    "</div>"
   ]
  },
  {
   "cell_type": "markdown",
   "metadata": {},
   "source": [
    "<div dir=\"rtl\">\n",
    "\n",
    "## سوال ۳\n",
    "\n",
    "<ul>\n",
    "  <li> به این معناست که مدل ما واریانس کمی دارد و این نکته مثبت و خوبی برای ما است</li>\n",
    "    <li>  </li>\n",
    "    <li> </li>\n",
    "    \n",
    "</ul>\n",
    "\n",
    "\n",
    "</div>"
   ]
  },
  {
   "cell_type": "markdown",
   "metadata": {},
   "source": [
    "# Question 2"
   ]
  },
  {
   "cell_type": "code",
   "execution_count": 7,
   "metadata": {},
   "outputs": [],
   "source": [
    "import pandas as pd\n",
    "import numpy as np\n",
    "import matplotlib.pyplot as plt\n",
    "from sklearn.model_selection import train_test_split\n",
    "from sklearn import preprocessing\n",
    "\n",
    "from numpy import linalg as LA\n"
   ]
  },
  {
   "cell_type": "code",
   "execution_count": 550,
   "metadata": {},
   "outputs": [],
   "source": [
    "class Neural_Network(object):\n",
    "    def __init__(self, in_size, h_size, out_size, activation_type = 'Tanh'):        \n",
    "        self.inputLayerSize = in_size\n",
    "        self.outputLayerSize = out_size\n",
    "        self.hiddenLayerSize = h_size\n",
    "        self.activation_type = activation_type\n",
    "        \n",
    "    def init_weight(self):\n",
    "        self.W1 = np.random.randn(self.inputLayerSize,self.hiddenLayerSize) / np.sqrt(self.inputLayerSize)\n",
    "        self.b1 = np.zeros((1, self.hiddenLayerSize)) \n",
    "        self.W2 = np.random.randn(self.hiddenLayerSize,self.outputLayerSize) /  np.sqrt(self.hiddenLayerSize)\n",
    "        self.b2 = np.zeros((1, self.outputLayerSize)) \n",
    "        \n",
    "    def activation_function(self, Z ,deri = False):\n",
    "        \n",
    "        type = self.activation_type\n",
    "        if type == 'ReLU':\n",
    "            if deri == True:\n",
    "                return np.array([1 if i>0 else 0 for i in np.squeeze(Z)])\n",
    "            else:\n",
    "                return np.array([i if i>0 else 0 for i in np.squeeze(Z)])\n",
    "        elif type == 'Sigmoid':\n",
    "            if deri == True:\n",
    "                return 1/(1+np.exp(-Z))*(1-1/(1+np.exp(-Z)))\n",
    "            else:\n",
    "                return 1/(1+np.exp(-Z))\n",
    "        elif type == 'Tanh':\n",
    "            if deri == True:\n",
    "                return np.tanh(Z)\n",
    "            else:\n",
    "                return 1-(np.tanh(Z))**2\n",
    "        else:\n",
    "            raise TypeError('Invalid type!')\n",
    "        \n",
    "    def forward_propagate(self, X):\n",
    "        self.z2 = np.dot(X, (self.W1 )) + self.b1\n",
    "        self.a2 = self.activation_function(self.z2)\n",
    "        self.z3 = np.dot(self.a2, (self.W2 )) + self.b2\n",
    "        score = self.activation_function(self.z3)\n",
    "        return score\n",
    "    \n",
    "    def predict(self, X_test):\n",
    "        \n",
    "        y_predict_onehot = self.forward_propagate(X_test)\n",
    "        y_predict = np.argmax(np.array(y_predict_onehot), axis = 1)\n",
    "        \n",
    "        return y_predict\n",
    "        \n",
    "    \n",
    "    def cost_function(self, X, y):\n",
    "\n",
    "        self.yHat = self.forward_propagate(X)\n",
    "        J = (0.5 / X.shape[0]) * np.sum(np.sum((y-self.yHat)**2))\n",
    "        return J\n",
    "    \n",
    "    def cost_function_prime(self, X, y):\n",
    "        \n",
    "        self.yHat = self.forward_propagate(X)\n",
    "        \n",
    "        delta3 = np.multiply( -(1/ X.shape[0]) * (y - self.yHat), self.activation_function(self.z3, deri = True))\n",
    "        \n",
    "        dJdb2 = np.sum(delta3, axis=0, keepdims=True)\n",
    "        dJdW2 = np.dot(self.a2.T, delta3)\n",
    "        \n",
    "        delta2 = np.dot(delta3, self.W2.T) * self.activation_function(self.z2, deri = True)\n",
    "        \n",
    "        dJdb1 = np.sum(delta2, axis=0, keepdims=True)\n",
    "        dJdW1 = np.dot(X.T, delta2)  \n",
    "        \n",
    "        return dJdW1, dJdb1, dJdW2, dJdb2\n",
    "    \n",
    "            \n",
    "    def load_weight(self):\n",
    "        \n",
    "        return self.W1, self.b1, self.W2, self.b2\n",
    "    \n",
    "    def fit(self,X, y, X_validation, y_validation,\n",
    "            num_epochs = 10, batch_size=200, learning_rate = 0.001,\n",
    "            learning_rate_decay = 0.95, verbose=False):\n",
    "        \n",
    "        standard_scaler = preprocessing.StandardScaler()\n",
    "\n",
    "        \n",
    "        X_validation = np.array(X_validation)\n",
    "#         X_validation = standard_scaler.fit_transform(X_validation)\n",
    "        \n",
    "        y_validation = np.array(y_validation)\n",
    "        \n",
    "        num_train = X.shape[0]\n",
    "        iterations_per_epoch = int(num_train / batch_size)\n",
    "        \n",
    "        cost_history = []\n",
    "        train_acc_history = []\n",
    "        val_acc_history = []\n",
    "    \n",
    "        for i in range(1, num_epochs * iterations_per_epoch + 1):\n",
    "            np.random.seed(0)\n",
    "            sample_index = np.random.choice(num_train, batch_size, replace=True)   \n",
    "            X_batch = X.iloc[sample_index, :]\n",
    "            X_batch = np.array(X_batch)\n",
    "            \n",
    "#             X_batch = standard_scaler.fit_transform(X_batch)\n",
    "            \n",
    "            y_batch = y.iloc[sample_index]\n",
    "            \n",
    "            y_batch_onehot = np.array(pd.get_dummies(y_batch.iloc[:,0]))\n",
    "\n",
    "            \n",
    "            cost = self.cost_function(X_batch, y_batch_onehot)\n",
    "            cost_history.append(cost)\n",
    "            \n",
    "            dJdW1, dJdb1, dJdW2, dJdb2 = self.cost_function_prime(X_batch, y_batch_onehot)\n",
    "            \n",
    "            self.W2 = self.W2 + learning_rate * dJdW2 \n",
    "            self.b2 = self.b2 + learning_rate * dJdb2\n",
    "            self.W1 = self.W1 + learning_rate * dJdW1\n",
    "            self.b1 = self.b1 + learning_rate * dJdb1\n",
    "            \n",
    "            if verbose and i % iterations_per_epoch == 0:    \n",
    "                epoch = i / iterations_per_epoch\n",
    "                train_acc = (self.predict(X_batch) == np.array(y_batch)).mean()    \n",
    "                val_acc = (self.predict(X_validation) == np.array(y_validation)).mean()    \n",
    "                train_acc_history.append(train_acc)    \n",
    "                val_acc_history.append(val_acc)    \n",
    "                print(\"epoch %d / %d: cost %f, train_acc: %f, val_acc: %f\" % \n",
    "                                    (epoch, num_epochs, cost, train_acc, val_acc))\n",
    "                \n",
    "                learning_rate *= learning_rate_decay \n",
    "                \n",
    "        return {   \n",
    "            'cost_history': cost_history,   \n",
    "            'train_acc_history': train_acc_history,   \n",
    "            'val_acc_history': val_acc_history\n",
    "        }\n"
   ]
  },
  {
   "cell_type": "code",
   "execution_count": 560,
   "metadata": {},
   "outputs": [],
   "source": [
    "X_training, y_training = pd.read_csv(\"DataSet2/Reduced_Train_Data.csv\", header=None), pd.read_csv(\"DataSet2/trainLabels.csv\", header=None)\n",
    "\n",
    "X_training = pd.DataFrame(standard_scaler.fit_transform(X_training))\n",
    "\n",
    "X_test, y_test = pd.read_csv(\"DataSet2/Reduced_Test_Data.csv\", header=None), pd.read_csv(\"DataSet2/testLabels.csv\", header=None)\n",
    "\n",
    "\n",
    "X_train, X_val, y_train, y_val = train_test_split(X_training, y_training, test_size=0.05)\n",
    "\n",
    "standard_scaler = preprocessing.StandardScaler()\n",
    "\n",
    "\n",
    "# X_train, X_val, y_train, y_val = X_train.reset_index(), X_val.reset_index(), y_train.reset_index(), y_val.reset_index()\n",
    "\n",
    "m_train = X_train.shape[0]\n",
    "m_test = X_test.shape[0]\n",
    "\n",
    "\n",
    "input_layer_size = X_train.shape[1]\n",
    "output_layer_size = y_train_onehot.shape[1]"
   ]
  },
  {
   "cell_type": "code",
   "execution_count": 564,
   "metadata": {},
   "outputs": [
    {
     "name": "stdout",
     "output_type": "stream",
     "text": [
      "epoch 1 / 10: cost 1.416242, train_acc: 0.095332, val_acc: 0.099335\n",
      "epoch 2 / 10: cost 0.687352, train_acc: 0.098071, val_acc: 0.099558\n",
      "epoch 3 / 10: cost 0.566835, train_acc: 0.100037, val_acc: 0.099901\n",
      "epoch 4 / 10: cost 0.534521, train_acc: 0.101027, val_acc: 0.100126\n",
      "epoch 5 / 10: cost 0.521940, train_acc: 0.101629, val_acc: 0.100242\n",
      "epoch 6 / 10: cost 0.516029, train_acc: 0.101932, val_acc: 0.100311\n",
      "epoch 7 / 10: cost 0.512964, train_acc: 0.102068, val_acc: 0.100370\n",
      "epoch 8 / 10: cost 0.511298, train_acc: 0.102233, val_acc: 0.100391\n",
      "epoch 9 / 10: cost 0.510386, train_acc: 0.102311, val_acc: 0.100416\n",
      "epoch 10 / 10: cost 0.509906, train_acc: 0.102401, val_acc: 0.100426\n"
     ]
    }
   ],
   "source": [
    "NN = Neural_Network(in_size= input_layer_size, h_size= 150, out_size= output_layer_size, activation_type= \"Tanh\")\n",
    "NN.init_weight()\n",
    "stats = NN.fit(X_train, y_train, X_val, y_val,\n",
    "                num_epochs = 10, batch_size=1024, learning_rate = 0.001,\n",
    "                learning_rate_decay = 0.95, verbose=True)"
   ]
  },
  {
   "cell_type": "code",
   "execution_count": 565,
   "metadata": {},
   "outputs": [
    {
     "data": {
      "image/png": "[encoded data removed]",
      "text/plain": [
       "<Figure size 720x576 with 2 Axes>"
      ]
     },
     "metadata": {
      "needs_background": "light"
     },
     "output_type": "display_data"
    }
   ],
   "source": [
    "%matplotlib inline\n",
    "plt.rcParams['figure.figsize'] = (10.0, 8.0) # set default size of plots\n",
    "plt.rcParams['image.interpolation'] = 'nearest'\n",
    "plt.rcParams['image.cmap'] = 'gray'\n",
    "plt.subplots_adjust(wspace =0, hspace =0.3)\n",
    "\n",
    "\n",
    "# Plot the loss function and train / validation accuracies\n",
    "\n",
    "plt.subplot(2, 1, 1)\n",
    "plt.plot(stats['cost_history'])\n",
    "plt.title('Loss history')\n",
    "plt.xlabel('Iteration')\n",
    "plt.ylabel('Loss')\n",
    "\n",
    "plt.subplot(2, 1, 2)\n",
    "plt.plot(stats['train_acc_history'], label='train')\n",
    "plt.plot(stats['val_acc_history'], label='val')\n",
    "plt.title('Classification accuracy history')\n",
    "plt.xlabel('Epoch')\n",
    "plt.ylabel('Clasification accuracy')\n",
    "plt.legend()\n",
    "plt.show()\n"
   ]
  },
  {
   "cell_type": "code",
   "execution_count": 566,
   "metadata": {},
   "outputs": [
    {
     "name": "stdout",
     "output_type": "stream",
     "text": [
      "epoch 1 / 10: cost 0.544881, train_acc: 0.103042, val_acc: 0.100507\n",
      "epoch 2 / 10: cost 0.527037, train_acc: 0.103147, val_acc: 0.100343\n",
      "epoch 3 / 10: cost 0.488946, train_acc: 0.104903, val_acc: 0.100280\n",
      "epoch 4 / 10: cost 0.463787, train_acc: 0.105480, val_acc: 0.100341\n",
      "epoch 5 / 10: cost 0.459241, train_acc: 0.105061, val_acc: 0.100443\n",
      "epoch 6 / 10: cost 0.467527, train_acc: 0.104596, val_acc: 0.100410\n",
      "epoch 7 / 10: cost 0.477407, train_acc: 0.104263, val_acc: 0.100386\n",
      "epoch 8 / 10: cost 0.483557, train_acc: 0.103476, val_acc: 0.100340\n",
      "epoch 9 / 10: cost 0.485949, train_acc: 0.103181, val_acc: 0.100289\n",
      "epoch 10 / 10: cost 0.486388, train_acc: 0.103312, val_acc: 0.100244\n"
     ]
    }
   ],
   "source": [
    "NN = Neural_Network(in_size= input_layer_size, h_size= 100, out_size= output_layer_size, activation_type= \"Tanh\")\n",
    "NN.init_weight()\n",
    "stats = NN.fit(X_train, y_train, X_val, y_val,\n",
    "                num_epochs = 10, batch_size=1024, learning_rate = 0.1,\n",
    "                learning_rate_decay = 0.95, verbose=True)"
   ]
  },
  {
   "cell_type": "code",
   "execution_count": 567,
   "metadata": {},
   "outputs": [
    {
     "name": "stdout",
     "output_type": "stream",
     "text": [
      "epoch 1 / 10: cost 0.514192, train_acc: 0.100526, val_acc: 0.100389\n",
      "epoch 2 / 10: cost 0.486868, train_acc: 0.103551, val_acc: 0.100615\n",
      "epoch 3 / 10: cost 0.468969, train_acc: 0.103272, val_acc: 0.100667\n",
      "epoch 4 / 10: cost 0.462539, train_acc: 0.103412, val_acc: 0.100640\n",
      "epoch 5 / 10: cost 0.464623, train_acc: 0.103377, val_acc: 0.100570\n",
      "epoch 6 / 10: cost 0.467712, train_acc: 0.103481, val_acc: 0.100446\n",
      "epoch 7 / 10: cost 0.468858, train_acc: 0.103389, val_acc: 0.100426\n",
      "epoch 8 / 10: cost 0.468755, train_acc: 0.103474, val_acc: 0.100358\n",
      "epoch 9 / 10: cost 0.468227, train_acc: 0.103428, val_acc: 0.100396\n",
      "epoch 10 / 10: cost 0.467575, train_acc: 0.103688, val_acc: 0.100370\n"
     ]
    }
   ],
   "source": [
    "NN = Neural_Network(in_size= input_layer_size, h_size= 300, out_size= output_layer_size, activation_type= \"Tanh\")\n",
    "NN.init_weight()\n",
    "stats = NN.fit(X_train, y_train, X_val, y_val,\n",
    "                num_epochs = 10, batch_size=1024, learning_rate = 0.1,\n",
    "                learning_rate_decay = 0.95, verbose=True)"
   ]
  },
  {
   "cell_type": "markdown",
   "metadata": {},
   "source": [
    "# Question 3"
   ]
  },
  {
   "cell_type": "code",
   "execution_count": 30,
   "metadata": {},
   "outputs": [],
   "source": [
    "import numpy as np\n",
    "import pandas as pd\n",
    "import matplotlib.pyplot as plt\n",
    "\n",
    "import torch\n",
    "import torch.nn as nn\n",
    "import torch.nn.functional as F\n",
    "\n",
    "from torch import optim\n",
    "from torch.utils.data import DataLoader\n",
    "from torch.utils.data.sampler import SubsetRandomSampler\n",
    "\n",
    "standard_scaler = preprocessing.StandardScaler()\n",
    "from sklearn.metrics import confusion_matrix"
   ]
  },
  {
   "cell_type": "code",
   "execution_count": 9,
   "metadata": {},
   "outputs": [],
   "source": [
    "device = torch.device(\"cuda:0\" if torch.cuda.is_available() else \"cpu\")"
   ]
  },
  {
   "cell_type": "code",
   "execution_count": 27,
   "metadata": {},
   "outputs": [],
   "source": [
    "X_training, y_training = pd.read_csv(\"DataSet2/Reduced_Train_Data.csv\", header=None), pd.read_csv(\"DataSet2/trainLabels.csv\", header=None)\n",
    "X_test, y_test = pd.read_csv(\"DataSet2/Reduced_Test_Data.csv\", header=None), pd.read_csv(\"DataSet2/testLabels.csv\", header=None)"
   ]
  },
  {
   "cell_type": "code",
   "execution_count": 16,
   "metadata": {},
   "outputs": [],
   "source": [
    "split = int(0.8 * len(X_training))\n",
    "index_list = list(range(len(X_training)))\n",
    "train_idx, valid_idx = index_list[:split], index_list[split:]"
   ]
  },
  {
   "cell_type": "code",
   "execution_count": 35,
   "metadata": {},
   "outputs": [],
   "source": [
    "tr_sampler = SubsetRandomSampler(train_idx)\n",
    "val_sampler = SubsetRandomSampler(valid_idx)"
   ]
  },
  {
   "cell_type": "code",
   "execution_count": 38,
   "metadata": {},
   "outputs": [],
   "source": [
    "X_trainloader = DataLoader(X_training, batch_size=256, sampler=tr_sampler)\n",
    "X_validloader = DataLoader(X_training, batch_size=256, sampler=val_sampler)\n",
    "\n",
    "y_trainloader = DataLoader(y_training, batch_size=256, sampler=tr_sampler)\n",
    "y_validloader = DataLoader(y_training, batch_size=256, sampler=val_sampler)"
   ]
  },
  {
   "cell_type": "code",
   "execution_count": null,
   "metadata": {},
   "outputs": [],
   "source": [
    "class CNN(nn.Module):\n",
    "    \n",
    "    def __init__(self):\n",
    "        super(FashionCNN, self).__init__()\n",
    "        \n",
    "        self.layer1 = nn.Sequential(\n",
    "            nn.Conv2d(in_channels=1, out_channels=32, kernel_size=3, padding=1),\n",
    "            nn.BatchNorm2d(32),\n",
    "            nn.Tanh(),\n",
    "            nn.MaxPool2d(kernel_size=2, stride=2)\n",
    "        )\n",
    "        \n",
    "        self.layer2 = nn.Sequential(\n",
    "            nn.Conv2d(in_channels=32, out_channels=64, kernel_size=3),\n",
    "            nn.BatchNorm2d(64),\n",
    "            nn.Tanh(),\n",
    "            nn.MaxPool2d(2)\n",
    "        )\n",
    "        \n",
    "        self.fc1 = nn.Linear(in_features=64*6*6, out_features=600)\n",
    "        self.drop = nn.Dropout2d(0.25)\n",
    "        self.fc2 = nn.Linear(in_features=600, out_features=120)\n",
    "        self.fc3 = nn.Linear(in_features=120, out_features=10)\n",
    "        \n",
    "    def forward(self, x):\n",
    "        out = self.layer1(x)\n",
    "        out = self.layer2(out)\n",
    "        out = out.view(out.size(0), -1)\n",
    "        out = self.fc1(out)\n",
    "        out = self.drop(out)\n",
    "        out = self.fc2(out)\n",
    "        \n",
    "        out = self.fc3(out)\n",
    "        \n",
    "        return out"
   ]
  },
  {
   "cell_type": "code",
   "execution_count": null,
   "metadata": {},
   "outputs": [],
   "source": [
    "model = nn.Sequential(nn.Linear(784, 128),\n",
    "                      nn.Sigmoid(),\n",
    "                      nn.Linear(128, 64),\n",
    "                      nn.Sigmoid(),\n",
    "                      nn.Linear(64, 10),\n",
    "                      nn.LogSoftmax(dim=1))\n",
    "# Define the loss\n",
    "criterion = nn.NLLLoss()\n",
    "# Optimizers require the parameters to optimize and a learning rate\n",
    "optimizer = optim.SGD(model.parameters(), lr=0.003)\n",
    "epochs = 5\n",
    "for e in range(epochs):\n",
    "    running_loss = 0\n",
    "    for images, labels in trainloader:\n",
    "        # Flatten MNIST images into a 784 long vector\n",
    "        images = images.view(images.shape[0], -1)\n",
    "    \n",
    "        # Training pass\n",
    "        optimizer.zero_grad()\n",
    "        \n",
    "        output = model(images)\n",
    "        loss = criterion(output, labels)\n",
    "        loss.backward()\n",
    "        optimizer.step()\n",
    "        \n",
    "        running_loss += loss.item()\n",
    "    else:\n",
    "        print(f\"Training loss: {running_loss/len(trainloader)}\")"
   ]
  },
  {
   "cell_type": "code",
   "execution_count": null,
   "metadata": {},
   "outputs": [],
   "source": [
    "\n"
   ]
  }
 ],
 "metadata": {
  "kernelspec": {
   "display_name": "Python 3",
   "language": "python",
   "name": "python3"
  },
  "language_info": {
   "codemirror_mode": {
    "name": "ipython",
    "version": 3
   },
   "file_extension": ".py",
   "mimetype": "text/x-python",
   "name": "python",
   "nbconvert_exporter": "python",
   "pygments_lexer": "ipython3",
   "version": "3.7.6"
  }
 },
 "nbformat": 4,
 "nbformat_minor": 4
}
