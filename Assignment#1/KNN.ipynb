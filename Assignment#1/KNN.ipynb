{
 "cells": [
  {
   "cell_type": "markdown",
   "metadata": {},
   "source": [
    "# KNN Implementation From Scratch\n",
    "    Implement the K-Nearest neighbors algorithm from scratch "
   ]
  },
  {
   "cell_type": "code",
   "execution_count": 1,
   "metadata": {},
   "outputs": [],
   "source": [
    "# requierments\n",
    "import pandas as pd\n",
    "import numpy as np\n",
    "import operator\n",
    "import random\n",
    "import matplotlib.pyplot as plt"
   ]
  },
  {
   "cell_type": "markdown",
   "metadata": {},
   "source": [
    "# Implementations\n",
    "* calculate distance between data points by method euclidean, hamming, max_distance\n",
    "* Find nearest neighbors\n",
    "* Find K-nearest neighbors\n",
    "* Calculate majority votes by method random, weighted\n",
    "* KNN & Weighted KNN"
   ]
  },
  {
   "cell_type": "code",
   "execution_count": null,
   "metadata": {},
   "outputs": [],
   "source": [
    "path_datests = './datasets'\n",
    "path_Q4_data = '{data}/Question 4/'.format(data = path_datests)\n",
    "\n",
    "def read_csv_datasets(train_data_name, test_data_name):\n",
    "    train_data = pd.read_csv(path_Q4_data + train_data_name, header=None)\n",
    "    test_data = pd.read_csv(path_Q4_data + test_data_name, header=None)\n",
    "    return [train_data, test_data]\n",
    "\n",
    "def distance_calculator(vec1, vec2, how = 'euclidean'):\n",
    "    vec1 = np.array(vec1)\n",
    "    vec2 = np.array(vec2)\n",
    "\n",
    "    if (how == 'euclidean'): \n",
    "        return np.linalg.norm(vec1 - vec2)\n",
    "    elif(how == 'd1'): \n",
    "        return np.max(vec1 - vec2)\n",
    "    elif(how == 'hamming'):\n",
    "        return np.sum(np.abs(vec1 - vec2))\n",
    "    else:\n",
    "        return\n",
    "    \n",
    "def KNN(training_set, training_labels, test_instance, k, how_mesure_distance = 'euclidean', optimized = True):\n",
    "\n",
    "    distances = {}\n",
    "    if(optimized):\n",
    "        if(how_mesure_distance == 'euclidean'):\n",
    "            distances = (training_set -  test_instance).T.apply(np.linalg.norm)\n",
    "        elif(how_mesure_distance == 'd1'):\n",
    "            distances = (training_set -  test_instance).T.apply(np.max)\n",
    "        elif(how_mesure_distance == 'hamming'):\n",
    "            distances = (training_set -  test_instance).T.apply(np.abs).apply(np.sum)\n",
    "        \n",
    "        distances = dict(distances)\n",
    "        \n",
    "    else:\n",
    "        for row in training_set.itertuples():\n",
    "            distances[row[0]] = distance_calculator(np.array(row[1:]), np.array(test_instance), how = 'euclidean')\n",
    "\n",
    "    \n",
    "    sorted_distances = {j: v for j, v in sorted(distances.items(), key=lambda item: item[1])}\n",
    "\n",
    "    \n",
    "    dist_of_NNs = list(sorted_distances.values())[:k]\n",
    "    ids_of_NNs = list(sorted_distances.keys())[:k]\n",
    "    classes_of_NNs = list(training_labels.iloc[ids_of_NNs].iloc[:,0])\n",
    "    \n",
    "    \n",
    "    K_nearest_neighbours = {}\n",
    "    K_nearest_neighbours['class'] = classes_of_NNs\n",
    "    K_nearest_neighbours['distance'] = dist_of_NNs\n",
    "    \n",
    "    \n",
    "    return pd.DataFrame(K_nearest_neighbours)\n",
    "\n",
    "def random_majority_vote(nearest_neighbours):\n",
    "    class_votes = dict(nearest_neighbours['class'].value_counts())\n",
    "    max_vote = max(class_votes.values())\n",
    "    top_votes = [k for k,v in class_votes.items() if v == max_vote]\n",
    "    if(len(top_votes) < 2):\n",
    "        return top_votes[0]\n",
    "    else:\n",
    "        return random.choice(top_votes)\n",
    "    \n",
    "def weighted_majority_vote(nearest_neighbours):\n",
    "    weighted_class_votes = {}\n",
    "    for class_name,group in nearest_neighbours.groupby('class'):\n",
    "        weighted_class_votes[class_name] = 0\n",
    "        for i, row in group.iterrows():\n",
    "            weighted_class_votes[class_name] += (1/row['distance'])\n",
    "        \n",
    "    max_vote_class = (max(weighted_class_votes.keys(), key=(lambda key: weighted_class_votes[key])))\n",
    "    \n",
    "    return max_vote_class\n",
    "    \n",
    "def majority_vote(nearest_neighbours, break_ties_method = 'weighted'):\n",
    "\n",
    "    if(break_ties_method == 'random'):\n",
    "        return random_majority_vote(nearest_neighbours)\n",
    "        \n",
    "    elif(break_ties_method == 'weighted'):\n",
    "        return weighted_majority_vote(nearest_neighbours)\n",
    "    \n",
    "def predict_test_data_KNN(training_set, training_labels, test_set, k = 10, how_mesure_distance = 'euclidean', break_ties_method = 'random'):\n",
    "    predictions = []\n",
    "    \n",
    "    for test_instance in test_set.itertuples():\n",
    "        \n",
    "        nearest_neighbors = KNN(training_set, training_labels, np.array(test_instance[1:]),\n",
    "                                k = k,\n",
    "                                how_mesure_distance = how_mesure_distance)\n",
    "        predicted_class = majority_vote(nearest_neighbors,\n",
    "                                        break_ties_method = break_ties_method)\n",
    "        predictions.append(predicted_class)\n",
    "    return(pd.Series(predictions))\n",
    "\n",
    "def calculate_accuracy(test, prediction):\n",
    "    try:\n",
    "        return (sum(test == prediction)/len(prediction))\n",
    "    except:\n",
    "        return pd.NA\n",
    "    \n",
    "def normalize_dataset(data):\n",
    "    try:\n",
    "        return (data - data.min()) / (data.max() - data.min())\n",
    "    except:\n",
    "        return pd.NA\n",
    "    "
   ]
  },
  {
   "cell_type": "code",
   "execution_count": null,
   "metadata": {},
   "outputs": [],
   "source": [
    "train_data, test_data = read_csv_datasets('train_data.csv', 'test_data.csv')\n",
    "train_label, test_label = read_csv_datasets('train_labels.csv', 'test_labels.csv')\n",
    "train_data_normalized = normalize_dataset(train_data)\n",
    "test_data_normalized = normalize_dataset(test_data)"
   ]
  },
  {
   "cell_type": "code",
   "execution_count": null,
   "metadata": {},
   "outputs": [],
   "source": []
  },
  {
   "cell_type": "code",
   "execution_count": null,
   "metadata": {},
   "outputs": [],
   "source": [
    "Ks = [2,5,10,50]\n",
    "accuracies = []\n",
    "for k in Ks:\n",
    "    predictions = predict_test_data_KNN(train_data, train_label, test_data, k = k, how_mesure_distance = 'euclidean', break_ties_method = 'random')\n",
    "    accuracies.append(calculate_accuracy(test_label.iloc[:,0], predictions))"
   ]
  },
  {
   "cell_type": "code",
   "execution_count": null,
   "metadata": {},
   "outputs": [],
   "source": [
    "ax = pd.Series(data=accuracies[4:], index=Ks).plot(kind = 'line', linestyle='-',\n",
    "                                          marker='o',\n",
    "                                          title = 'Accuracy ~ Neighbor Numbers on normalized dataset test set')\n",
    "ax.set_xlabel(\"Neighbor Numbers\")\n",
    "ax.set_ylabel(\"Accuracy\")"
   ]
  },
  {
   "cell_type": "code",
   "execution_count": null,
   "metadata": {},
   "outputs": [],
   "source": [
    "best_k = 5\n",
    "predictions = predict_test_data_KNN(train_data_normalized, train_label, test_data_normalized, k = best_k, how_mesure_distance = 'hamming', break_ties_method = 'random')\n",
    "accuracy_hamming = (calculate_accuracy(test_label.iloc[:,0], predictions))\n",
    "accuracy_hamming"
   ]
  },
  {
   "cell_type": "code",
   "execution_count": null,
   "metadata": {},
   "outputs": [],
   "source": [
    "best_k = 5\n",
    "predictions = predict_test_data_KNN(train_data_normalized, train_label, test_data_normalized, k = best_k, how_mesure_distance = 'd1', break_ties_method = 'random')\n",
    "accuracy_d1 = (calculate_accuracy(test_label.iloc[:,0], predictions))\n",
    "accuracy_d1"
   ]
  }
 ],
 "metadata": {
  "kernelspec": {
   "display_name": "Python 3",
   "language": "python",
   "name": "python3"
  },
  "language_info": {
   "codemirror_mode": {
    "name": "ipython",
    "version": 3
   },
   "file_extension": ".py",
   "mimetype": "text/x-python",
   "name": "python",
   "nbconvert_exporter": "python",
   "pygments_lexer": "ipython3",
   "version": "3.7.6"
  }
 },
 "nbformat": 4,
 "nbformat_minor": 4
}
