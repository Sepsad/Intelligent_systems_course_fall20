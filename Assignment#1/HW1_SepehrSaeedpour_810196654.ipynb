{
 "cells": [
  {
   "cell_type": "markdown",
   "metadata": {},
   "source": [
    "<body >\n",
    "    <div style=\"direction:rtl;line-height:300%;background-color:rgb(255, 255, 255);\">\n",
    "            <img src=\"./images/Fanni-Transparent.png\" style=\"position:reletive;margin-top:25pt;float:right;\" width=\"200\" height=\"200\"/>\n",
    "    <img src=\"./images/University_of_Tehran_logo.svg\" style=\"position:reletive;margin-top:25pt;margin-left:20pt;float:left;\" width=\"150\" height=\"150\"/>\n",
    "\t\t<div align=center>\n",
    "\t\t\t<font  size=5 >\n",
    "\t\t\t\t<p></p>\n",
    "\t\t\t\t<p></p>\n",
    "                <br>\n",
    "                 بسمه تعالی\n",
    "\t\t\t\t<p></p>\n",
    "\t\t\t</font>\n",
    "\t\t</div>\n",
    "        <div align=center >\n",
    "                        <font size=30 >\n",
    "                            <br>\n",
    "                            گزارش همورک اول\n",
    "                        </font>\n",
    "         </div>\n",
    "           <div align=center >\n",
    "                        <font size=3 >\n",
    "                            <br>\n",
    "تهیه و تنظیم : سپهر سعیدپور\n",
    "                            <br>\n",
    "۸۱۰۱۹۶۶۵۴\n",
    "                        </font>\n",
    "        </div>\n",
    "    </div>\n",
    "</body>"
   ]
  },
  {
   "cell_type": "markdown",
   "metadata": {},
   "source": [
    "# Question 1"
   ]
  },
  {
   "cell_type": "markdown",
   "metadata": {},
   "source": [
    "* ابتدا بردار گرادیان و ماتریس هسیان را به دست می‌آوریم\n",
    "* نقاط ایستا را محاسبه می‌کنیم\n",
    "* برای هر پاسخ هسیان را محاسبه می‌کنیم\n",
    "<br><br>\n",
    "در عکس زیر مراحل بالا انجام شده است."
   ]
  },
  {
   "cell_type": "markdown",
   "metadata": {},
   "source": [
    "<!-- ![](./images/Q1.jpg) -->\n",
    "<img src=\"./images/Q1.jpg\" width=\"400\">"
   ]
  },
  {
   "cell_type": "markdown",
   "metadata": {},
   "source": [
    "# Question 2"
   ]
  },
  {
   "cell_type": "markdown",
   "metadata": {},
   "source": [
    "**قسمت الف و ب و ج**\n",
    "* الف: گرادیان را می‌گیریم و در نقطه صفر محاسبه می‌کنیم\n",
    "* ب: در این قسمت مقدار گرادیان و تابع را حساب می‌کنیم و تابع را بر حسب الفا مینیم می‌کنیم\n",
    "* ج: در این قسمت مقدار بتا را ۰.۵ در نظر می‌گیریم و مقدار الفا را با توجه به آرمیجیو محسابه می‌کنیم "
   ]
  },
  {
   "cell_type": "markdown",
   "metadata": {},
   "source": [
    "<img src=\"./images/Q2-1.jpg\" width=\"400\">"
   ]
  },
  {
   "cell_type": "markdown",
   "metadata": {},
   "source": [
    "مقدار ۰.۱۲۵ با مقدار به دست آمده از روش الف تفاوت بیسیار کمی دارد. و همینطور طول گام خوبی برای به دست آوردن نقطه بعدی می‌باشد"
   ]
  },
  {
   "cell_type": "markdown",
   "metadata": {},
   "source": [
    "* د: سعی می‌کنیم با استفاده از الگوریتم نقاط بعدی را محاسبه کنیم"
   ]
  },
  {
   "cell_type": "markdown",
   "metadata": {},
   "source": [
    "<img src=\"./images/Q2-2.jpg\" width=\"400\">"
   ]
  },
  {
   "cell_type": "markdown",
   "metadata": {},
   "source": [
    "نتایج به دست آمده بسیار به هم شبیه هستند. به خاطر اینکه در اینجا تابع ما درجه ۲ بود. روش معمولی راحت‌تر پاسخ می‌داد. اما در صورتی که توابع پیچیده‌تر شوند، روش ارمیجیو بهتر و بهینه‌تر عمل خواهد کرد"
   ]
  },
  {
   "cell_type": "markdown",
   "metadata": {},
   "source": [
    "#  Question 3: SVM Implementation"
   ]
  },
  {
   "cell_type": "markdown",
   "metadata": {},
   "source": [
    "##  مراحل پیاده‌سازی الگوریتم ماشین بردار پشتیبان\n"
   ]
  },
  {
   "cell_type": "markdown",
   "metadata": {},
   "source": [
    "* ابتدا ابرصفحه را با وزن‌دهی اولیه مشخص می‌کنیم\n",
    "* سپس با استفاده از تابع هزینه تعریف شده و مشتق آن و الگوریتم گرادیان کاهشی ابرصفحه را به دست می‌آوریم\n",
    "    * با این روش ابر صفحه‌ای فیت می‌شود که بیشترین حاشیه را داشته باشد.\n",
    "* قسمت قبل را به تعداد ایپاک‌ها تکرار می‌کنیم تا به اپتیامیز ترین حالت برسیم\n",
    "*  سپس با صفحه‌هایی برای هر کدام برای هر لیبل فیت شده‌اند مقدار فاصله از صفحه را برای هر داده محاسبه می‌کنیم\n",
    "* بیشترین (از لحاظ مثبت بودن) را به به عنوان لیبل در نظر می‌گیریم و پیش‌بینی می‌کنیم\n"
   ]
  },
  {
   "cell_type": "code",
   "execution_count": 2,
   "metadata": {},
   "outputs": [],
   "source": [
    "import pandas as pd\n",
    "import numpy as np\n",
    "from sklearn.utils import shuffle\n",
    "import matplotlib.pyplot as plt"
   ]
  },
  {
   "cell_type": "code",
   "execution_count": 3,
   "metadata": {},
   "outputs": [],
   "source": [
    "path_datests = './datasets'\n",
    "path_Q4_data = '{data}/Question 3/'.format(data = path_datests)\n",
    "\n",
    "def read_csv_datasets(train_data_name, test_data_name):\n",
    "    train_data = pd.read_csv(path_Q4_data + train_data_name)\n",
    "    train_data['intercept'] = 1\n",
    "    test_data = pd.read_csv(path_Q4_data + test_data_name)\n",
    "    test_data['intercept'] = 1\n",
    "    return [train_data, test_data]\n",
    "\n",
    "# loss function implementation\n",
    "def hinge_loss_function(W, X, Y):\n",
    "    return (1 / X.shape[0]) * np.sum([max(0, 1 - Y[i] * np.dot(X[i], W)) for i in range(X.shape[0])])\n",
    "\n",
    "def SVM_loss_function(W, X, Y, la):\n",
    "    return (la * np.sum(W**2) +  hinge_loss_function(W, X, Y))\n",
    "\n",
    "# gradient of loss function implementation\n",
    "def indicator_function(W, x, y):\n",
    "    if(0 >= 1 - y*(np.dot(x, W))):\n",
    "        return 0\n",
    "    else:\n",
    "        return (-1)\n",
    "\n",
    "def SVM_loss_gradient_function(W, X, Y, la):\n",
    "    \n",
    "    if (type(Y) == np.int32):\n",
    "        Y_batch = np.array([Y])\n",
    "        X_batch = np.array([X])\n",
    "        N  = X_batch.shape[0]\n",
    "    else:\n",
    "        Y_batch = Y\n",
    "        X_batch = X\n",
    "        N  = X_batch.shape[0]\n",
    "        \n",
    "    hinge_gradient = []\n",
    "    if(N == 1):\n",
    "        hinge_gradient = indicator_function(W, X_batch[0], Y_batch[0]) * X_batch[0] * Y_batch[0]\n",
    "    else:\n",
    "        hinge_gradient = np.sum([indicator_function(W, X_batch[i], Y_batch[i]) * X_batch[i] * Y_batch[i]  for i in range(N)], axis=0)\n",
    "    \n",
    "    return (2 * la * W + 1/N * hinge_gradient )\n",
    "   \n",
    "# implementation of BGD & SGD (with mini-batch)\n",
    "def GD(X, Y, max_epochs = 100, mini_batch_size = 100, learning_rate = 0.01, hyperparameter = 0.1, method = 'SGD', decreasing_LR = False):\n",
    "    \n",
    "    W = np.random.normal(loc = 0, scale = 0.1, size = X.shape[1])\n",
    "    nth = 0\n",
    "    for epoch in range(0, max_epochs + 1):\n",
    "        lr = learning_rate\n",
    "        X_, Y_ = shuffle(X, Y, n_samples = mini_batch_size)\n",
    "        for i in range(X_.shape[0]):\n",
    "            if(method == 'SGD'):\n",
    "                ascent = SVM_loss_gradient_function(W, X_[i], Y_[i], la = hyperparameter)\n",
    "            elif(method  == 'BGD'):\n",
    "                ascent = SVM_loss_gradient_function(W, X_, Y_, la = hyperparameter)\n",
    "            \n",
    "            W = W - (lr * ascent)\n",
    "            if(decreasing_LR):\n",
    "                lr = lr / (i+1)\n",
    "    return W\n",
    "\n",
    "# One VS. All SVM Classifier\n",
    "\n",
    "def train_SVM_OvA_multipleclass(train_data, epochs_for_every_GD = 100, learning_rate = 1e-4, hyperparameter = 1e-4, method = 'SGD',  decreasing_LR = False):\n",
    "    labels = [0,1,2,3,4,5,6,7,8,9]\n",
    "    features = np.array(train_data.drop(columns = ['label']) )\n",
    "    Ws = []\n",
    "    for i in labels:\n",
    "        labels = np.where(train_data['label'] == i, 1 , -1)\n",
    "        W = GD(features, labels, max_epochs = epochs_for_every_GD, mini_batch_size = 100,\n",
    "               learning_rate = learning_rate, hyperparameter = hyperparameter, method = method,  decreasing_LR = False)\n",
    "        \n",
    "        Ws.append(W)\n",
    "    return np.array(Ws)\n",
    "\n",
    "# predict & calcukate accuracy\n",
    "def predict_test_set(weights, test_data):\n",
    "    preds = []\n",
    "    labels = [0,1,2,3,4,5,6,7,8,9]\n",
    "    for row in test_data.itertuples():\n",
    "        d = np.array(row[2:])\n",
    "        result = list(np.matmul(weights,d))\n",
    "        prediction = result.index(max(result))\n",
    "        preds.append(labels[prediction])\n",
    "    return np.array(preds)\n",
    "\n",
    "def calc_model_accuracy(predictions, test_lables):\n",
    "    return (sum(predictions == test_lables) / len(predictions)) \n",
    "\n",
    "# split dataset to folds for cross-validation\n",
    "def cross_validation_split(data, num_folds = 5):\n",
    "    folds_size = (data.shape[0] // num_folds)\n",
    "    folds = []\n",
    "    for i in range(num_folds):\n",
    "        validation = data.iloc[range((i*folds_size),((i+1)*folds_size))].reset_index()\n",
    "        train = data.drop(range((i*folds_size),((i+1)*folds_size))).reset_index()\n",
    "        folds.append((train, validation))\n",
    "    return folds\n",
    "\n",
    "# Cross-validation to choose best lambda (hyperparameter)\n",
    "def SVM_with_cross_validation_for_choose_lambda(train_data, epochs_for_every_GD = 100, learning_rate = 1e-4, hyperparameter = 1e-10, method = 'SGD', num_folds = 5):\n",
    "    \n",
    "    folds = cross_validation_split(train_data, num_folds = num_folds)\n",
    "    mean_accuracy = 0\n",
    "    for train, validation in folds:\n",
    "        weights = train_SVM_OvA_multipleclass(train,epochs_for_every_GD  = epochs_for_every_GD,\n",
    "                                   learning_rate = learning_rate, hyperparameter = hyperparameter, method = 'SGD')\n",
    "        \n",
    "        predictions = predict_test_set(weights, validation)\n",
    "        \n",
    "        mean_accuracy += (calc_model_accuracy(predictions, validation['label']) / num_folds)\n",
    "        \n",
    "    return mean_accuracy\n",
    "        "
   ]
  },
  {
   "cell_type": "code",
   "execution_count": 5,
   "metadata": {},
   "outputs": [],
   "source": [
    "# import datasets\n",
    "train_data, test_data = read_csv_datasets('mnist_train.csv','mnist_test.csv')"
   ]
  },
  {
   "cell_type": "markdown",
   "metadata": {},
   "source": [
    "## قسمت ب: پیدا کردن بهترین لامبدا\n",
    "در این قسمت با پیاده‌سازی الگوریتم کراس ولیدیشن بهترین لامبدا را پیدا می‌شود."
   ]
  },
  {
   "cell_type": "code",
   "execution_count": 43,
   "metadata": {},
   "outputs": [],
   "source": [
    "lambdas = [1e-10, 1e-8, 1e-6, 1e-4, 1e-2, 1]\n",
    "accuracies = []\n",
    "for la in lambdas:\n",
    "    accuracy = SVM_with_cross_validation_for_choose_lambda(train_data, epochs_for_every_GD = 100, learning_rate = 1e-4,\n",
    "                              hyperparameter = la, method = 'SGD', num_folds = 5)\n",
    "    accuracies.append(accuracy)\n",
    "    "
   ]
  },
  {
   "cell_type": "markdown",
   "metadata": {},
   "source": [
    "#### با توجه نمودار زیر که بر حسب لگاریتم رسم شده‌است بهترین لامبدا در توان منفی ۴ قرار دارد"
   ]
  },
  {
   "cell_type": "code",
   "execution_count": 57,
   "metadata": {},
   "outputs": [
    {
     "data": {
      "text/plain": [
       "[<matplotlib.lines.Line2D at 0x20742538748>]"
      ]
     },
     "execution_count": 57,
     "metadata": {},
     "output_type": "execute_result"
    },
    {
     "data": {
      "image/png": "[encoded data removed]",
      "text/plain": [
       "<Figure size 432x288 with 1 Axes>"
      ]
     },
     "metadata": {
      "needs_background": "light"
     },
     "output_type": "display_data"
    }
   ],
   "source": [
    "plt.plot(np.log10(lambdas), accuracies, linestyle='-',marker='o')"
   ]
  },
  {
   "cell_type": "markdown",
   "metadata": {},
   "source": [
    "## قسمت ج: پیاده‌سازی الگوریتم با روش‌های بچ واستوکستیک\n",
    "#### دقت SGD را می‌توان در زیر دید"
   ]
  },
  {
   "cell_type": "code",
   "execution_count": 60,
   "metadata": {},
   "outputs": [
    {
     "name": "stdout",
     "output_type": "stream",
     "text": [
      "accuracy on test dataset: 0.8181\n"
     ]
    }
   ],
   "source": [
    "best_lambda = 1e-4\n",
    "\n",
    "weights = train_SVM_OvA_multipleclass(train_data, epochs_for_every_GD = 100, learning_rate = 1e-4,\n",
    "                            hyperparameter = best_lambda, method = 'SGD')\n",
    "predictions = predict_test_set(weights, test_data)\n",
    "print(\"accuracy on test dataset: {}\".format(calc_model_accuracy(predictions, test_data['label'])))\n"
   ]
  },
  {
   "cell_type": "markdown",
   "metadata": {},
   "source": [
    "##### دقت مدل BGD "
   ]
  },
  {
   "cell_type": "code",
   "execution_count": 61,
   "metadata": {},
   "outputs": [
    {
     "name": "stdout",
     "output_type": "stream",
     "text": [
      "accuracy on test dataset: 0.8162\n"
     ]
    }
   ],
   "source": [
    "best_lambda = 1e-4\n",
    "\n",
    "weights = train_SVM_OvA_multipleclass(train_data, epochs_for_every_GD = 100, learning_rate = 1e-4,\n",
    "                            hyperparameter = best_lambda, method = 'BGD')\n",
    "predictions = predict_test_set(weights, test_data)\n",
    "print(\"accuracy on test dataset: {}\".format(calc_model_accuracy(predictions, test_data['label'])))\n"
   ]
  },
  {
   "cell_type": "markdown",
   "metadata": {},
   "source": [
    "## قسمت د: کشیدن دقت مدل با تکرار‌های مختلف"
   ]
  },
  {
   "cell_type": "code",
   "execution_count": 82,
   "metadata": {},
   "outputs": [
    {
     "data": {
      "text/plain": [
       "[<matplotlib.lines.Line2D at 0x20719ebcc88>]"
      ]
     },
     "execution_count": 82,
     "metadata": {},
     "output_type": "execute_result"
    },
    {
     "data": {
      "image/png": "[encoded data removed]",
      "text/plain": [
       "<Figure size 432x288 with 1 Axes>"
      ]
     },
     "metadata": {
      "needs_background": "light"
     },
     "output_type": "display_data"
    }
   ],
   "source": [
    "best_lambda = 1e-4\n",
    "epochs = [1, 50, 100, 500, 1000, 5000, 10000]\n",
    "accuracies = []\n",
    "for epoch in epochs:\n",
    "    weights = train_SVM_OvA_multipleclass(train_data, epochs_for_every_GD = epoch, learning_rate = 1e-4,\n",
    "                              hyperparameter = best_lambda, method = 'SGD')\n",
    "    preds = predict_test_set(weights, test_data)\n",
    "    accuracies.append(calc_model_accuracy(preds, test_data['label']))\n",
    "    \n",
    "plt.plot(np.log10(epochs), accuracies, linestyle='-',marker='o' )"
   ]
  },
  {
   "cell_type": "code",
   "execution_count": 83,
   "metadata": {},
   "outputs": [
    {
     "data": {
      "text/plain": [
       "[<matplotlib.lines.Line2D at 0x20742a22908>]"
      ]
     },
     "execution_count": 83,
     "metadata": {},
     "output_type": "execute_result"
    },
    {
     "data": {
      "image/png": "[encoded data removed]",
      "text/plain": [
       "<Figure size 432x288 with 1 Axes>"
      ]
     },
     "metadata": {
      "needs_background": "light"
     },
     "output_type": "display_data"
    }
   ],
   "source": [
    "plt.plot((epochs), accuracies, linestyle='-',marker='o' )"
   ]
  },
  {
   "cell_type": "markdown",
   "metadata": {},
   "source": [
    "## قسمت د: کشیدن دقت مدل با تکرار‌های مختلف در حالت لرنینگ ریت کاهشی"
   ]
  },
  {
   "cell_type": "code",
   "execution_count": 6,
   "metadata": {},
   "outputs": [
    {
     "data": {
      "text/plain": [
       "[<matplotlib.lines.Line2D at 0x165ac3d5f08>]"
      ]
     },
     "execution_count": 6,
     "metadata": {},
     "output_type": "execute_result"
    },
    {
     "data": {
      "image/png": "[encoded data removed]",
      "text/plain": [
       "<Figure size 432x288 with 1 Axes>"
      ]
     },
     "metadata": {
      "needs_background": "light"
     },
     "output_type": "display_data"
    }
   ],
   "source": [
    "best_lambda = 1e-4\n",
    "epochs = [1, 50, 100, 500, 1000, 5000, 10000]\n",
    "accuracies = []\n",
    "for epoch in epochs:\n",
    "    weights = train_SVM_OvA_multipleclass(train_data, epochs_for_every_GD = epoch, learning_rate = 1e-4,\n",
    "                              hyperparameter = best_lambda, method = 'SGD', decreasing_LR=True)\n",
    "    preds = predict_test_set(weights, test_data)\n",
    "    accuracies.append(calc_model_accuracy(preds, test_data['label']))\n",
    "    \n",
    "plt.plot(np.log10(epochs), accuracies, linestyle='-',marker='o' )"
   ]
  },
  {
   "cell_type": "markdown",
   "metadata": {},
   "source": [
    "#### به نظر هر چه تعداد تکرار بالاتر برود دقت نیز بالاتر می‌رود. همینطور با کاهش لرنینگ ریت این مقدار بهتر و بهتر می‌شود."
   ]
  },
  {
   "cell_type": "code",
   "execution_count": 11,
   "metadata": {},
   "outputs": [
    {
     "data": {
      "text/plain": [
       "[<matplotlib.lines.Line2D at 0x165adedba88>]"
      ]
     },
     "execution_count": 11,
     "metadata": {},
     "output_type": "execute_result"
    },
    {
     "data": {
      "image/png": "[encoded data removed]",
      "text/plain": [
       "<Figure size 432x288 with 1 Axes>"
      ]
     },
     "metadata": {
      "needs_background": "light"
     },
     "output_type": "display_data"
    }
   ],
   "source": [
    "plt.plot((epochs), accuracies, linestyle='-',marker='o' )"
   ]
  },
  {
   "cell_type": "markdown",
   "metadata": {},
   "source": [
    "# Question 4: KNN Implementation"
   ]
  },
  {
   "cell_type": "markdown",
   "metadata": {},
   "source": [
    " برای هر مقدار \n",
    "K مراحل زیر را طی می کنیم :\n",
    "* فاصله ی نقطه تست را از نقطه‌ها بدست می آوریم\n",
    "* فاصله های از کم به زیاد مرتب کرده و اندیس K تا نزدیک ترین نقطه را می گیریم\n",
    "* براساس این اندیس ها ، نقطه‌ها های همسایه را پیدا می کنیم\n",
    "* براساس لیبل همسایه ها ، مشخص می کنیم که لیبل نقطه تست موردنظر چیست\n",
    "* درآخر با محاسبه ی فاصله ی لیبل های تست و لیبل های پیش بینی شده ارزیابی می کنیم که کدوم مقدار K بهترین پیش بینی را دارد.\n"
   ]
  },
  {
   "cell_type": "code",
   "execution_count": 14,
   "metadata": {},
   "outputs": [],
   "source": [
    "# requierments\n",
    "import pandas as pd\n",
    "import numpy as np\n",
    "import operator\n",
    "import random\n",
    "import matplotlib.pyplot as plt"
   ]
  },
  {
   "cell_type": "code",
   "execution_count": 15,
   "metadata": {},
   "outputs": [],
   "source": [
    "path_datests = './datasets'\n",
    "path_Q4_data = '{data}/Question 4/'.format(data = path_datests)\n",
    "\n",
    "def read_csv_datasets(train_data_name, test_data_name):\n",
    "    train_data = pd.read_csv(path_Q4_data + train_data_name, header=None)\n",
    "    test_data = pd.read_csv(path_Q4_data + test_data_name, header=None)\n",
    "    return [train_data, test_data]\n",
    "\n",
    "def distance_calculator(vec1, vec2, how = 'euclidean'):\n",
    "    vec1 = np.array(vec1)\n",
    "    vec2 = np.array(vec2)\n",
    "\n",
    "    if (how == 'euclidean'): \n",
    "        return np.linalg.norm(vec1 - vec2)\n",
    "    elif(how == 'd1'): \n",
    "        return np.max(vec1 - vec2)\n",
    "    elif(how == 'hamming'):\n",
    "        return np.sum(np.abs(vec1 - vec2))\n",
    "    else:\n",
    "        return\n",
    "    \n",
    "def KNN(training_set, training_labels, test_instance, k, how_mesure_distance = 'euclidean', optimized = True):\n",
    "\n",
    "    distances = {}\n",
    "    if(optimized):\n",
    "        if(how_mesure_distance == 'euclidean'):\n",
    "            distances = (training_set -  test_instance).T.apply(np.linalg.norm)\n",
    "        elif(how_mesure_distance == 'd1'):\n",
    "            distances = (training_set -  test_instance).T.apply(np.max)\n",
    "        elif(how_mesure_distance == 'hamming'):\n",
    "            distances = (training_set -  test_instance).T.apply(np.abs).apply(np.sum)\n",
    "        \n",
    "        distances = dict(distances)\n",
    "        \n",
    "    else:\n",
    "        for row in training_set.itertuples():\n",
    "            distances[row[0]] = distance_calculator(np.array(row[1:]), np.array(test_instance), how = 'euclidean')\n",
    "\n",
    "    \n",
    "    sorted_distances = {j: v for j, v in sorted(distances.items(), key=lambda item: item[1])}\n",
    "\n",
    "    \n",
    "    dist_of_NNs = list(sorted_distances.values())[:k]\n",
    "    ids_of_NNs = list(sorted_distances.keys())[:k]\n",
    "    classes_of_NNs = list(training_labels.iloc[ids_of_NNs].iloc[:,0])\n",
    "    \n",
    "    \n",
    "    K_nearest_neighbours = {}\n",
    "    K_nearest_neighbours['class'] = classes_of_NNs\n",
    "    K_nearest_neighbours['distance'] = dist_of_NNs\n",
    "    \n",
    "    \n",
    "    return pd.DataFrame(K_nearest_neighbours)\n",
    "\n",
    "def random_majority_vote(nearest_neighbours):\n",
    "    class_votes = dict(nearest_neighbours['class'].value_counts())\n",
    "    max_vote = max(class_votes.values())\n",
    "    top_votes = [k for k,v in class_votes.items() if v == max_vote]\n",
    "    if(len(top_votes) < 2):\n",
    "        return top_votes[0]\n",
    "    else:\n",
    "        return random.choice(top_votes)\n",
    "    \n",
    "def weighted_majority_vote(nearest_neighbours):\n",
    "    weighted_class_votes = {}\n",
    "    for class_name,group in nearest_neighbours.groupby('class'):\n",
    "        weighted_class_votes[class_name] = 0\n",
    "        for i, row in group.iterrows():\n",
    "            weighted_class_votes[class_name] += (1/row['distance'])\n",
    "        \n",
    "    max_vote_class = (max(weighted_class_votes.keys(), key=(lambda key: weighted_class_votes[key])))\n",
    "    \n",
    "    return max_vote_class\n",
    "    \n",
    "def majority_vote(nearest_neighbours, break_ties_method = 'weighted'):\n",
    "\n",
    "    if(break_ties_method == 'random'):\n",
    "        return random_majority_vote(nearest_neighbours)\n",
    "        \n",
    "    elif(break_ties_method == 'weighted'):\n",
    "        return weighted_majority_vote(nearest_neighbours)\n",
    "    \n",
    "def predict_test_data_KNN(training_set, training_labels, test_set, k = 10, how_mesure_distance = 'euclidean', break_ties_method = 'random'):\n",
    "    predictions = []\n",
    "    \n",
    "    for test_instance in test_set.itertuples():\n",
    "        \n",
    "        nearest_neighbors = KNN(training_set, training_labels, np.array(test_instance[1:]),\n",
    "                                k = k,\n",
    "                                how_mesure_distance = how_mesure_distance)\n",
    "        predicted_class = majority_vote(nearest_neighbors,\n",
    "                                        break_ties_method = break_ties_method)\n",
    "        predictions.append(predicted_class)\n",
    "    return(pd.Series(predictions))\n",
    "\n",
    "def calculate_accuracy(test, prediction):\n",
    "    try:\n",
    "        return (sum(test == prediction)/len(prediction))\n",
    "    except:\n",
    "        return pd.NA\n",
    "    \n",
    "def normalize_dataset(data):\n",
    "    try:\n",
    "        return (data - data.min()) / (data.max() - data.min())\n",
    "    except:\n",
    "        return pd.NA\n",
    "    "
   ]
  },
  {
   "cell_type": "code",
   "execution_count": 16,
   "metadata": {},
   "outputs": [],
   "source": [
    "train_data, test_data = read_csv_datasets('train_data.csv', 'test_data.csv')\n",
    "train_label, test_label = read_csv_datasets('train_labels.csv', 'test_labels.csv')"
   ]
  },
  {
   "cell_type": "code",
   "execution_count": 151,
   "metadata": {},
   "outputs": [],
   "source": [
    "Ks = [2,5,10,50]\n",
    "accuracies = []\n",
    "for k in Ks:\n",
    "    predictions = predict_test_data_KNN(train_data, train_label, test_data, k = k, how_mesure_distance = 'euclidean', break_ties_method = 'random')\n",
    "    accuracies.append(calculate_accuracy(test_label.iloc[:,0], predictions))"
   ]
  },
  {
   "cell_type": "markdown",
   "metadata": {},
   "source": [
    "### همانطور که در پایین دیده می‌شود بهترین حالت برای ۲ اتفاق افتاده است اما دقت‌ها  بسیار پایین است"
   ]
  },
  {
   "cell_type": "code",
   "execution_count": 162,
   "metadata": {},
   "outputs": [
    {
     "data": {
      "text/plain": [
       "Text(0, 0.5, 'Accuracy')"
      ]
     },
     "execution_count": 162,
     "metadata": {},
     "output_type": "execute_result"
    },
    {
     "data": {
      "image/png": "[encoded data removed]",
      "text/plain": [
       "<Figure size 432x288 with 1 Axes>"
      ]
     },
     "metadata": {
      "needs_background": "light"
     },
     "output_type": "display_data"
    }
   ],
   "source": [
    "ax = pd.Series(data=accuracies, index=Ks).plot(kind = 'line', linestyle='-',\n",
    "                                          marker='o',\n",
    "                                          title = 'Accuracy ~ Neighbor Numbers on test set')\n",
    "ax.set_xlabel(\"Neighbor Numbers\")\n",
    "ax.set_ylabel(\"Accuracy\")"
   ]
  },
  {
   "cell_type": "code",
   "execution_count": 274,
   "metadata": {},
   "outputs": [],
   "source": [
    "best_k = 2\n",
    "predictions = predict_test_data_KNN(train_data, train_label, test_data, k = best_k, how_mesure_distance = 'd1', break_ties_method = 'random')\n",
    "accuracy_d1 = (calculate_accuracy(test_label.iloc[:,0], predictions))"
   ]
  },
  {
   "cell_type": "markdown",
   "metadata": {},
   "source": [
    "### دقت برای دی۱"
   ]
  },
  {
   "cell_type": "code",
   "execution_count": 276,
   "metadata": {},
   "outputs": [
    {
     "data": {
      "text/plain": [
       "0.14057142857142857"
      ]
     },
     "execution_count": 276,
     "metadata": {},
     "output_type": "execute_result"
    }
   ],
   "source": [
    "accuracy_d1"
   ]
  },
  {
   "cell_type": "code",
   "execution_count": 275,
   "metadata": {},
   "outputs": [],
   "source": [
    "best_k = 2\n",
    "predictions = predict_test_data_KNN(train_data, train_label, test_data, k = best_k, how_mesure_distance = 'hamming', break_ties_method = 'random')\n",
    "accuracy_hamming = (calculate_accuracy(test_label.iloc[:,0], predictions))"
   ]
  },
  {
   "cell_type": "markdown",
   "metadata": {},
   "source": [
    "### دقت برای دی۲"
   ]
  },
  {
   "cell_type": "code",
   "execution_count": 277,
   "metadata": {},
   "outputs": [
    {
     "data": {
      "text/plain": [
       "0.1462857142857143"
      ]
     },
     "execution_count": 277,
     "metadata": {},
     "output_type": "execute_result"
    }
   ],
   "source": [
    "accuracy_hamming"
   ]
  },
  {
   "cell_type": "markdown",
   "metadata": {},
   "source": [
    "### با توجه به اینکه دقت مدل پایین بود. باید راه‌کاری بهتر کردن مدل ارائه داد یکی از این راه‌کارها نرمالایز کردن داده‌هاست. با نرمالایز کردن می‌توان همه ابعاد را به یک شکل دید. و دسته‌بندی را ساده‌تر انجام داد. چرا که ممکن است یک بعد بسیار از بقیه بیشتر باشد و باعث اوت لایر شدن اون داده‌ها بشود."
   ]
  },
  {
   "cell_type": "code",
   "execution_count": 17,
   "metadata": {},
   "outputs": [],
   "source": [
    "train_data_normalized = normalize_dataset(train_data)\n",
    "test_data_normalized = normalize_dataset(test_data)"
   ]
  },
  {
   "cell_type": "code",
   "execution_count": 271,
   "metadata": {},
   "outputs": [],
   "source": [
    "Ks = [2,5,10,50]\n",
    "accuracies_normalized = []\n",
    "for k in Ks:\n",
    "    predictions = predict_test_data_KNN(train_data_normalized, train_label, test_data_normalized, k = k, how_mesure_distance = 'euclidean', break_ties_method = 'random')\n",
    "    accuracies.append(calculate_accuracy(test_label.iloc[:,0], predictions))"
   ]
  },
  {
   "cell_type": "code",
   "execution_count": 273,
   "metadata": {},
   "outputs": [
    {
     "data": {
      "text/plain": [
       "Text(0, 0.5, 'Accuracy')"
      ]
     },
     "execution_count": 273,
     "metadata": {},
     "output_type": "execute_result"
    },
    {
     "data": {
      "image/png": "[encoded data removed]",
      "text/plain": [
       "<Figure size 432x288 with 1 Axes>"
      ]
     },
     "metadata": {
      "needs_background": "light"
     },
     "output_type": "display_data"
    }
   ],
   "source": [
    "ax = pd.Series(data=accuracies[4:], index=Ks).plot(kind = 'line', linestyle='-',\n",
    "                                          marker='o',\n",
    "                                          title = 'Accuracy ~ Neighbor Numbers on normalized dataset test set')\n",
    "ax.set_xlabel(\"Neighbor Numbers\")\n",
    "ax.set_ylabel(\"Accuracy\")"
   ]
  },
  {
   "cell_type": "markdown",
   "metadata": {},
   "source": [
    "همانطور که می‌بینیم با نرمالایز کردن داده‌ها دقت به شدت افزایش یافت"
   ]
  },
  {
   "cell_type": "code",
   "execution_count": 18,
   "metadata": {},
   "outputs": [
    {
     "data": {
      "text/plain": [
       "0.7917142857142857"
      ]
     },
     "execution_count": 18,
     "metadata": {},
     "output_type": "execute_result"
    }
   ],
   "source": [
    "best_k = 5\n",
    "predictions = predict_test_data_KNN(train_data_normalized, train_label, test_data_normalized, k = best_k, how_mesure_distance = 'hamming', break_ties_method = 'random')\n",
    "accuracy_hamming = (calculate_accuracy(test_label.iloc[:,0], predictions))\n",
    "accuracy_hamming"
   ]
  },
  {
   "cell_type": "code",
   "execution_count": 20,
   "metadata": {},
   "outputs": [
    {
     "data": {
      "text/plain": [
       "0.502"
      ]
     },
     "execution_count": 20,
     "metadata": {},
     "output_type": "execute_result"
    }
   ],
   "source": [
    "best_k = 5\n",
    "predictions = predict_test_data_KNN(train_data_normalized, train_label, test_data_normalized, k = best_k, how_mesure_distance = 'd1', break_ties_method = 'random')\n",
    "accuracy_d1 = (calculate_accuracy(test_label.iloc[:,0], predictions))\n",
    "accuracy_d1"
   ]
  }
 ],
 "metadata": {
  "kernelspec": {
   "display_name": "Python 3",
   "language": "python",
   "name": "python3"
  },
  "language_info": {
   "codemirror_mode": {
    "name": "ipython",
    "version": 3
   },
   "file_extension": ".py",
   "mimetype": "text/x-python",
   "name": "python",
   "nbconvert_exporter": "python",
   "pygments_lexer": "ipython3",
   "version": "3.7.6"
  }
 },
 "nbformat": 4,
 "nbformat_minor": 4
}
