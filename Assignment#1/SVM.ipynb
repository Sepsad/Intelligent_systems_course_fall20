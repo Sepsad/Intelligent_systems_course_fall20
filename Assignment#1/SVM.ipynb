{
 "cells": [
  {
   "cell_type": "markdown",
   "metadata": {},
   "source": [
    "# SVM Implementation From Scratch\n",
    "    Implement the Support vector machien algorithm from scratch based on hinge cost function"
   ]
  },
  {
   "cell_type": "markdown",
   "metadata": {},
   "source": [
    "## Requierement Packages"
   ]
  },
  {
   "cell_type": "code",
   "execution_count": 3,
   "metadata": {},
   "outputs": [],
   "source": [
    "import pandas as pd\n",
    "import numpy as np\n",
    "from sklearn.utils import shuffle\n",
    "import matplotlib.pyplot as plt"
   ]
  },
  {
   "cell_type": "markdown",
   "metadata": {},
   "source": [
    "# Implementations:\n",
    "* hinge loss function\n",
    "* SVM loss function\n",
    "* indicator function\n",
    "* SVM loss gradient function\n",
    "* Stochastic Gradient Descent\n",
    "* Batch Gradient Descent\n",
    "* Cross-validation\n"
   ]
  },
  {
   "cell_type": "code",
   "execution_count": 51,
   "metadata": {},
   "outputs": [],
   "source": [
    "path_datests = './datasets'\n",
    "path_Q4_data = '{data}/Question 3/'.format(data = path_datests)\n",
    "\n",
    "def read_csv_datasets(train_data_name, test_data_name):\n",
    "    train_data = pd.read_csv(path_Q4_data + train_data_name)\n",
    "    train_data['intercept'] = 1\n",
    "    test_data = pd.read_csv(path_Q4_data + test_data_name)\n",
    "    test_data['intercept'] = 1\n",
    "    return [train_data, test_data]\n",
    "\n",
    "# loss function implementation\n",
    "def hinge_loss_function(W, X, Y):\n",
    "    return (1 / X.shape[0]) * np.sum([max(0, 1 - Y[i] * np.dot(X[i], W)) for i in range(X.shape[0])])\n",
    "\n",
    "def SVM_loss_function(W, X, Y, la):\n",
    "    return (la * np.sum(W**2) +  hinge_loss_function(W, X, Y))\n",
    "\n",
    "# gradient of loss function implementation\n",
    "def indicator_function(W, x, y):\n",
    "    if(0 >= 1 - y*(np.dot(x, W))):\n",
    "        return 0\n",
    "    else:\n",
    "        return (-1)\n",
    "\n",
    "def SVM_loss_gradient_function(W, X, Y, la):\n",
    "    \n",
    "    if (type(Y) == np.int32):\n",
    "        Y_batch = np.array([Y])\n",
    "        X_batch = np.array([X])\n",
    "        N  = X_batch.shape[0]\n",
    "    else:\n",
    "        Y_batch = Y\n",
    "        X_batch = X\n",
    "        N  = X_batch.shape[0]\n",
    "        \n",
    "    hinge_gradient = []\n",
    "    if(N == 1):\n",
    "        hinge_gradient = indicator_function(W, X_batch[0], Y_batch[0]) * X_batch[0] * Y_batch[0]\n",
    "    else:\n",
    "        hinge_gradient = np.sum([indicator_function(W, X_batch[i], Y_batch[i]) * X_batch[i] * Y_batch[i]  for i in range(N)], axis=0)\n",
    "    \n",
    "    return (2 * la * W + 1/N * hinge_gradient )\n",
    "   \n",
    "# implementation of BGD & SGD (with mini-batch)\n",
    "def GD(X, Y, max_epochs = 100, mini_batch_size = 100, learning_rate = 0.01, hyperparameter = 0.1, method = 'SGD', decreasing_LR = False):\n",
    "    \n",
    "    W = np.random.normal(loc = 0, scale = 0.1, size = X.shape[1])\n",
    "    nth = 0\n",
    "    for epoch in range(0, max_epochs + 1):\n",
    "        lr = learning_rate\n",
    "        X_, Y_ = shuffle(X, Y, n_samples = mini_batch_size)\n",
    "        for i in range(X_.shape[0]):\n",
    "            if(method == 'SGD'):\n",
    "                ascent = SVM_loss_gradient_function(W, X_[i], Y_[i], la = hyperparameter)\n",
    "            elif(method  == 'BGD'):\n",
    "                ascent = SVM_loss_gradient_function(W, X_, Y_, la = hyperparameter)\n",
    "            \n",
    "            W = W - (lr * ascent)\n",
    "            if(decreasing_LR):\n",
    "                lr = lr / (i+1)\n",
    "    return W\n",
    "\n",
    "# One VS. All SVM Classifier\n",
    "\n",
    "def train_SVM_OvA_multipleclass(train_data, epochs_for_every_GD = 100, learning_rate = 1e-4, hyperparameter = 1e-4, method = 'SGD',  decreasing_LR = False):\n",
    "    labels = [0,1,2,3,4,5,6,7,8,9]\n",
    "    features = np.array(train_data.drop(columns = ['label']) )\n",
    "    Ws = []\n",
    "    for i in labels:\n",
    "        labels = np.where(train_data['label'] == i, 1 , -1)\n",
    "        W = GD(features, labels, max_epochs = epochs_for_every_GD, mini_batch_size = 100,\n",
    "               learning_rate = learning_rate, hyperparameter = hyperparameter, method = method,  decreasing_LR = False)\n",
    "        \n",
    "        Ws.append(W)\n",
    "    return np.array(Ws)\n",
    "\n",
    "# predict & calcukate accuracy\n",
    "def predict_a_test_data(weights, test_data):\n",
    "    labels = [0,1,2,3,4,5,6,7,8,9]\n",
    "    result = list(np.matmul(weights, test_data))\n",
    "    prediction = result.index(max(result))\n",
    "    return labels[prediction]\n",
    "\n",
    "def predict_test_set(weights, test_data):\n",
    "    preds = []\n",
    "    labels = [0,1,2,3,4,5,6,7,8,9]\n",
    "    for row in test_data.itertuples():\n",
    "        d = np.array(test_data[2:])\n",
    "        preds.append(predict_a_test_data(weights, d))\n",
    "    return np.array(preds)\n",
    "\n",
    "def calc_model_accuracy(predictions, test_lables):\n",
    "    return (sum(predictions == test_lables) / len(predictions)) \n",
    "\n",
    "# split dataset to folds for cross-validation\n",
    "def cross_validation_split(data, num_folds = 5):\n",
    "    folds_size = (data.shape[0] // num_folds)\n",
    "    folds = []\n",
    "    for i in range(num_folds):\n",
    "        validation = data.iloc[range((i*folds_size),((i+1)*folds_size))].reset_index()\n",
    "        train = data.drop(range((i*folds_size),((i+1)*folds_size))).reset_index()\n",
    "        folds.append((train, validation))\n",
    "    return folds\n",
    "\n",
    "# Cross-validation to choose best lambda (hyperparameter)\n",
    "def SVM_with_cross_validation_for_choose_lambda(train_data, epochs_for_every_GD = 100, learning_rate = 1e-4, hyperparameter = 1e-10, method = 'SGD', num_folds = 5):\n",
    "    \n",
    "    folds = cross_validation_split(train_data, num_folds = num_folds)\n",
    "    mean_accuracy = 0\n",
    "    for train, validation in folds:\n",
    "        weights = train_SVM_OvA_multipleclass(train,epochs_for_every_GD  = epochs_for_every_GD,\n",
    "                                   learning_rate = learning_rate, hyperparameter = hyperparameter, method = 'SGD')\n",
    "        \n",
    "        predictions = predict_test_set(weights, validation)\n",
    "        \n",
    "        mean_accuracy += (calc_model_accuracy(predictions, validation['label']) / num_folds)\n",
    "        \n",
    "    return mean_accuracy\n",
    "\n",
    "def show_data(mean_image):\n",
    "    mean_image = np.array(mean_image)\n",
    "    plt.figure(figsize=(2,2))\n",
    "    plt.imshow(mean_image.reshape((28,28)).astype('uint8')) # visualize the mean image\n",
    "    plt.show()"
   ]
  },
  {
   "cell_type": "markdown",
   "metadata": {},
   "source": [
    "# MNIST Data Loading"
   ]
  },
  {
   "cell_type": "code",
   "execution_count": 5,
   "metadata": {},
   "outputs": [
    {
     "name": "stdout",
     "output_type": "stream",
     "text": [
      "Train data shape:  (60000, 786)\n",
      "Train labels shape:  (60000,)\n",
      "Test data shape:  (10000, 786)\n",
      "Test labels shape:  (10000,)\n"
     ]
    }
   ],
   "source": [
    "# import datasets\n",
    "train_data, test_data = read_csv_datasets('mnist_train.csv','mnist_test.csv')\n",
    "\n",
    "print('Train data shape: ', train_data.shape)\n",
    "print('Train labels shape: ', train_data['label'].shape)\n",
    "print('Test data shape: ', test_data.shape)\n",
    "print('Test labels shape: ', test_data['label'].shape)"
   ]
  },
  {
   "cell_type": "code",
   "execution_count": 48,
   "metadata": {
    "scrolled": true
   },
   "outputs": [
    {
     "name": "stdout",
     "output_type": "stream",
     "text": [
      "Data label is : 5\n"
     ]
    },
    {
     "data": {
      "image/png": "[encoded data removed]",
      "text/plain": [
       "<Figure size 144x144 with 1 Axes>"
      ]
     },
     "metadata": {
      "needs_background": "light"
     },
     "output_type": "display_data"
    },
    {
     "name": "stdout",
     "output_type": "stream",
     "text": [
      "Data label is : 0\n"
     ]
    },
    {
     "data": {
      "image/png": "[encoded data removed]",
      "text/plain": [
       "<Figure size 144x144 with 1 Axes>"
      ]
     },
     "metadata": {
      "needs_background": "light"
     },
     "output_type": "display_data"
    },
    {
     "name": "stdout",
     "output_type": "stream",
     "text": [
      "Data label is : 4\n"
     ]
    },
    {
     "data": {
      "image/png": "[encoded data removed]",
      "text/plain": [
       "<Figure size 144x144 with 1 Axes>"
      ]
     },
     "metadata": {
      "needs_background": "light"
     },
     "output_type": "display_data"
    }
   ],
   "source": [
    "for i, row in train_data.head(3).iterrows():\n",
    "    print(\"Data label is : {label}\".format(label = row['label']))\n",
    "    show_data(row[1:-1])"
   ]
  },
  {
   "cell_type": "markdown",
   "metadata": {},
   "source": [
    "# Choose best hyperparameter using cross-validation"
   ]
  },
  {
   "cell_type": "code",
   "execution_count": null,
   "metadata": {},
   "outputs": [],
   "source": [
    "lambdas = [1e-10, 1e-8, 1e-6, 1e-4, 1e-2, 1]\n",
    "accuracies = []\n",
    "for la in lambdas:\n",
    "    accuracy = SVM_with_cross_validation_for_choose_lambda(train_data, epochs_for_every_GD = 100, learning_rate = 1e-4,\n",
    "                              hyperparameter = la, method = 'SGD', num_folds = 5)\n",
    "    accuracies.append(accuracy)\n",
    "plt.plot(np.log10(lambdas), accuracies, linestyle='-',marker='o')"
   ]
  },
  {
   "cell_type": "markdown",
   "metadata": {},
   "source": [
    "# SVM Classifier using Stochastic & Batch Gradient Descent"
   ]
  },
  {
   "cell_type": "code",
   "execution_count": null,
   "metadata": {},
   "outputs": [],
   "source": [
    "# Stochastic Gradient Descent\n",
    "best_lambda = 1e-4\n",
    "\n",
    "weights = train_SVM_OvA_multipleclass(train_data, epochs_for_every_GD = 100, learning_rate = 1e-4,\n",
    "                            hyperparameter = best_lambda, method = 'SGD')\n",
    "predictions = predict_test_set(weights, test_data)\n",
    "print(\"accuracy on test dataset: {}\".format(calc_model_accuracy(predictions, test_data['label'])))\n"
   ]
  },
  {
   "cell_type": "code",
   "execution_count": null,
   "metadata": {},
   "outputs": [],
   "source": [
    "# Stochastic Batch Gradient Descent\n",
    "best_lambda = 1e-4\n",
    "\n",
    "weights = train_SVM_OvA_multipleclass(train_data, epochs_for_every_GD = 100, learning_rate = 1e-4,\n",
    "                            hyperparameter = best_lambda, method = 'BGD')\n",
    "predictions = predict_test_set(weights, test_data)\n",
    "print(\"accuracy on test dataset: {}\".format(calc_model_accuracy(predictions, test_data['label'])))\n"
   ]
  },
  {
   "cell_type": "markdown",
   "metadata": {},
   "source": [
    "# Choose Best Epoch-Size"
   ]
  },
  {
   "cell_type": "code",
   "execution_count": null,
   "metadata": {},
   "outputs": [],
   "source": [
    "# Choose best Epoch \n",
    "best_lambda = 1e-4\n",
    "epochs = [1, 50, 100, 500, 1000, 5000, 10000]\n",
    "accuracies = []\n",
    "for epoch in epochs:\n",
    "    weights = train_SVM_OvA_multipleclass(train_data, epochs_for_every_GD = epoch, learning_rate = 1e-4,\n",
    "                              hyperparameter = best_lambda, method = 'SGD')\n",
    "    preds = predict_test_set(weights, test_data)\n",
    "    accuracies.append(calc_model_accuracy(preds, test_data['label']))\n",
    "    \n",
    "plt.plot(np.log10(epochs), accuracies, linestyle='-',marker='o' )\n",
    "plt.show()\n",
    "plt.plot((epochs), accuracies, linestyle='-',marker='o' )\n",
    "plt.show()"
   ]
  },
  {
   "cell_type": "code",
   "execution_count": null,
   "metadata": {},
   "outputs": [],
   "source": [
    "best_lambda = 1e-4\n",
    "epochs = [1, 50, 100, 500, 1000, 5000, 10000]\n",
    "accuracies = []\n",
    "for epoch in epochs:\n",
    "    weights = train_SVM_OvA_multipleclass(train_data, epochs_for_every_GD = epoch, learning_rate = 1e-4,\n",
    "                              hyperparameter = best_lambda, method = 'SGD', decreasing_LR=True)\n",
    "    preds = predict_test_set(weights, test_data)\n",
    "    accuracies.append(calc_model_accuracy(preds, test_data['label']))\n",
    "    \n",
    "plt.plot(np.log10(epochs), accuracies, linestyle='-',marker='o' )\n",
    "plt.show()\n",
    "plt.plot((epochs), accuracies, linestyle='-',marker='o' )\n",
    "plt.show()"
   ]
  },
  {
   "cell_type": "markdown",
   "metadata": {},
   "source": [
    "# Test the SVM Classifier"
   ]
  },
  {
   "cell_type": "code",
   "execution_count": null,
   "metadata": {},
   "outputs": [],
   "source": []
  }
 ],
 "metadata": {
  "kernelspec": {
   "display_name": "Python 3",
   "language": "python",
   "name": "python3"
  },
  "language_info": {
   "codemirror_mode": {
    "name": "ipython",
    "version": 3
   },
   "file_extension": ".py",
   "mimetype": "text/x-python",
   "name": "python",
   "nbconvert_exporter": "python",
   "pygments_lexer": "ipython3",
   "version": "3.7.6"
  }
 },
 "nbformat": 4,
 "nbformat_minor": 4
}
